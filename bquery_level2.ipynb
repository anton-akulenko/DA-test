{
  "nbformat": 4,
  "nbformat_minor": 0,
  "metadata": {
    "colab": {
      "provenance": [],
      "authorship_tag": "ABX9TyM8HkCr1JopHkwNc/siiJIF",
      "include_colab_link": true
    },
    "kernelspec": {
      "name": "python3",
      "display_name": "Python 3"
    },
    "language_info": {
      "name": "python"
    }
  },
  "cells": [
    {
      "cell_type": "markdown",
      "metadata": {
        "id": "view-in-github",
        "colab_type": "text"
      },
      "source": [
        "<a href=\"https://colab.research.google.com/github/anton-akulenko/DA-test/blob/main/bquery_level2.ipynb\" target=\"_parent\"><img src=\"https://colab.research.google.com/assets/colab-badge.svg\" alt=\"Open In Colab\"/></a>"
      ]
    },
    {
      "cell_type": "markdown",
      "source": [
        "# instal *dependencies*"
      ],
      "metadata": {
        "id": "g9uxXtwETkZl"
      }
    },
    {
      "cell_type": "code",
      "source": [
        "# pip install --upgrade google-cloud-bigquery"
      ],
      "metadata": {
        "id": "GcS0eD8VTpgD"
      },
      "execution_count": null,
      "outputs": []
    },
    {
      "cell_type": "markdown",
      "source": [
        "# Imports"
      ],
      "metadata": {
        "id": "4z0zuR6sTvPK"
      }
    },
    {
      "cell_type": "code",
      "source": [
        "import os\n",
        "import json\n",
        "from google.cloud import bigquery\n",
        "from google.oauth2 import service_account\n",
        "import time\n",
        "\n",
        "import pandas as pd\n",
        "import gspread\n",
        "from google.colab import auth\n",
        "from google.oauth2.service_account import Credentials\n",
        "from concurrent.futures import ThreadPoolExecutor"
      ],
      "metadata": {
        "id": "LVzrYsM8Tt-8"
      },
      "execution_count": 5,
      "outputs": []
    },
    {
      "cell_type": "code",
      "source": [
        "from google.colab import files\n",
        "uploaded = files.upload()"
      ],
      "metadata": {
        "colab": {
          "base_uri": "https://localhost:8080/",
          "height": 73
        },
        "id": "eKMtfzA-e-sX",
        "outputId": "0b153e86-c9fc-4cdd-f5a6-72f867ca01f4"
      },
      "execution_count": 2,
      "outputs": [
        {
          "output_type": "display_data",
          "data": {
            "text/plain": [
              "<IPython.core.display.HTML object>"
            ],
            "text/html": [
              "\n",
              "     <input type=\"file\" id=\"files-5bcb9f84-ece1-4da3-8120-10173c6d6c0e\" name=\"files[]\" multiple disabled\n",
              "        style=\"border:none\" />\n",
              "     <output id=\"result-5bcb9f84-ece1-4da3-8120-10173c6d6c0e\">\n",
              "      Upload widget is only available when the cell has been executed in the\n",
              "      current browser session. Please rerun this cell to enable.\n",
              "      </output>\n",
              "      <script>// Copyright 2017 Google LLC\n",
              "//\n",
              "// Licensed under the Apache License, Version 2.0 (the \"License\");\n",
              "// you may not use this file except in compliance with the License.\n",
              "// You may obtain a copy of the License at\n",
              "//\n",
              "//      http://www.apache.org/licenses/LICENSE-2.0\n",
              "//\n",
              "// Unless required by applicable law or agreed to in writing, software\n",
              "// distributed under the License is distributed on an \"AS IS\" BASIS,\n",
              "// WITHOUT WARRANTIES OR CONDITIONS OF ANY KIND, either express or implied.\n",
              "// See the License for the specific language governing permissions and\n",
              "// limitations under the License.\n",
              "\n",
              "/**\n",
              " * @fileoverview Helpers for google.colab Python module.\n",
              " */\n",
              "(function(scope) {\n",
              "function span(text, styleAttributes = {}) {\n",
              "  const element = document.createElement('span');\n",
              "  element.textContent = text;\n",
              "  for (const key of Object.keys(styleAttributes)) {\n",
              "    element.style[key] = styleAttributes[key];\n",
              "  }\n",
              "  return element;\n",
              "}\n",
              "\n",
              "// Max number of bytes which will be uploaded at a time.\n",
              "const MAX_PAYLOAD_SIZE = 100 * 1024;\n",
              "\n",
              "function _uploadFiles(inputId, outputId) {\n",
              "  const steps = uploadFilesStep(inputId, outputId);\n",
              "  const outputElement = document.getElementById(outputId);\n",
              "  // Cache steps on the outputElement to make it available for the next call\n",
              "  // to uploadFilesContinue from Python.\n",
              "  outputElement.steps = steps;\n",
              "\n",
              "  return _uploadFilesContinue(outputId);\n",
              "}\n",
              "\n",
              "// This is roughly an async generator (not supported in the browser yet),\n",
              "// where there are multiple asynchronous steps and the Python side is going\n",
              "// to poll for completion of each step.\n",
              "// This uses a Promise to block the python side on completion of each step,\n",
              "// then passes the result of the previous step as the input to the next step.\n",
              "function _uploadFilesContinue(outputId) {\n",
              "  const outputElement = document.getElementById(outputId);\n",
              "  const steps = outputElement.steps;\n",
              "\n",
              "  const next = steps.next(outputElement.lastPromiseValue);\n",
              "  return Promise.resolve(next.value.promise).then((value) => {\n",
              "    // Cache the last promise value to make it available to the next\n",
              "    // step of the generator.\n",
              "    outputElement.lastPromiseValue = value;\n",
              "    return next.value.response;\n",
              "  });\n",
              "}\n",
              "\n",
              "/**\n",
              " * Generator function which is called between each async step of the upload\n",
              " * process.\n",
              " * @param {string} inputId Element ID of the input file picker element.\n",
              " * @param {string} outputId Element ID of the output display.\n",
              " * @return {!Iterable<!Object>} Iterable of next steps.\n",
              " */\n",
              "function* uploadFilesStep(inputId, outputId) {\n",
              "  const inputElement = document.getElementById(inputId);\n",
              "  inputElement.disabled = false;\n",
              "\n",
              "  const outputElement = document.getElementById(outputId);\n",
              "  outputElement.innerHTML = '';\n",
              "\n",
              "  const pickedPromise = new Promise((resolve) => {\n",
              "    inputElement.addEventListener('change', (e) => {\n",
              "      resolve(e.target.files);\n",
              "    });\n",
              "  });\n",
              "\n",
              "  const cancel = document.createElement('button');\n",
              "  inputElement.parentElement.appendChild(cancel);\n",
              "  cancel.textContent = 'Cancel upload';\n",
              "  const cancelPromise = new Promise((resolve) => {\n",
              "    cancel.onclick = () => {\n",
              "      resolve(null);\n",
              "    };\n",
              "  });\n",
              "\n",
              "  // Wait for the user to pick the files.\n",
              "  const files = yield {\n",
              "    promise: Promise.race([pickedPromise, cancelPromise]),\n",
              "    response: {\n",
              "      action: 'starting',\n",
              "    }\n",
              "  };\n",
              "\n",
              "  cancel.remove();\n",
              "\n",
              "  // Disable the input element since further picks are not allowed.\n",
              "  inputElement.disabled = true;\n",
              "\n",
              "  if (!files) {\n",
              "    return {\n",
              "      response: {\n",
              "        action: 'complete',\n",
              "      }\n",
              "    };\n",
              "  }\n",
              "\n",
              "  for (const file of files) {\n",
              "    const li = document.createElement('li');\n",
              "    li.append(span(file.name, {fontWeight: 'bold'}));\n",
              "    li.append(span(\n",
              "        `(${file.type || 'n/a'}) - ${file.size} bytes, ` +\n",
              "        `last modified: ${\n",
              "            file.lastModifiedDate ? file.lastModifiedDate.toLocaleDateString() :\n",
              "                                    'n/a'} - `));\n",
              "    const percent = span('0% done');\n",
              "    li.appendChild(percent);\n",
              "\n",
              "    outputElement.appendChild(li);\n",
              "\n",
              "    const fileDataPromise = new Promise((resolve) => {\n",
              "      const reader = new FileReader();\n",
              "      reader.onload = (e) => {\n",
              "        resolve(e.target.result);\n",
              "      };\n",
              "      reader.readAsArrayBuffer(file);\n",
              "    });\n",
              "    // Wait for the data to be ready.\n",
              "    let fileData = yield {\n",
              "      promise: fileDataPromise,\n",
              "      response: {\n",
              "        action: 'continue',\n",
              "      }\n",
              "    };\n",
              "\n",
              "    // Use a chunked sending to avoid message size limits. See b/62115660.\n",
              "    let position = 0;\n",
              "    do {\n",
              "      const length = Math.min(fileData.byteLength - position, MAX_PAYLOAD_SIZE);\n",
              "      const chunk = new Uint8Array(fileData, position, length);\n",
              "      position += length;\n",
              "\n",
              "      const base64 = btoa(String.fromCharCode.apply(null, chunk));\n",
              "      yield {\n",
              "        response: {\n",
              "          action: 'append',\n",
              "          file: file.name,\n",
              "          data: base64,\n",
              "        },\n",
              "      };\n",
              "\n",
              "      let percentDone = fileData.byteLength === 0 ?\n",
              "          100 :\n",
              "          Math.round((position / fileData.byteLength) * 100);\n",
              "      percent.textContent = `${percentDone}% done`;\n",
              "\n",
              "    } while (position < fileData.byteLength);\n",
              "  }\n",
              "\n",
              "  // All done.\n",
              "  yield {\n",
              "    response: {\n",
              "      action: 'complete',\n",
              "    }\n",
              "  };\n",
              "}\n",
              "\n",
              "scope.google = scope.google || {};\n",
              "scope.google.colab = scope.google.colab || {};\n",
              "scope.google.colab._files = {\n",
              "  _uploadFiles,\n",
              "  _uploadFilesContinue,\n",
              "};\n",
              "})(self);\n",
              "</script> "
            ]
          },
          "metadata": {}
        },
        {
          "output_type": "stream",
          "name": "stdout",
          "text": [
            "Saving arctic-math-419406-a1f56944d811.json to arctic-math-419406-a1f56944d811.json\n"
          ]
        }
      ]
    },
    {
      "cell_type": "code",
      "source": [
        "auth.authenticate_user()\n",
        "credentials = Credentials.from_service_account_file('/content/arctic-math-419406-a1f56944d811.json')\n",
        "client = bigquery.Client(credentials=credentials, project=credentials.project_id)\n"
      ],
      "metadata": {
        "id": "vCXIwGfRZEEB"
      },
      "execution_count": 6,
      "outputs": []
    },
    {
      "cell_type": "code",
      "source": [
        "queries = []\n",
        "\n",
        "queries += [f\"SELECT * FROM `bigquery-public-data.google_analytics_sample.ga_sessions_201707{str(day).zfill(2)}`\" for day in range(1, 31)]\n",
        "queries += [f\"SELECT * FROM `bigquery-public-data.google_analytics_sample.ga_sessions_201705{str(day).zfill(2)}`\" for day in range(1, 31)]\n"
      ],
      "metadata": {
        "id": "nnb3i5knwaMj"
      },
      "execution_count": 7,
      "outputs": []
    },
    {
      "cell_type": "code",
      "source": [
        "len(queries)"
      ],
      "metadata": {
        "colab": {
          "base_uri": "https://localhost:8080/"
        },
        "id": "Z6xQ3yx_eGfi",
        "outputId": "48a53392-1c2d-4c8f-b411-0d6724dee5c0"
      },
      "execution_count": 8,
      "outputs": [
        {
          "output_type": "execute_result",
          "data": {
            "text/plain": [
              "60"
            ]
          },
          "metadata": {},
          "execution_count": 8
        }
      ]
    },
    {
      "cell_type": "code",
      "source": [
        "def fetch_data(query):\n",
        "    start_time = time.time()\n",
        "    query_job = client.query(query)\n",
        "    df = query_job.to_dataframe()\n",
        "    end_time = time.time()\n",
        "    elapsed_time = end_time - start_time\n",
        "    print(f\"Query '{query}' completed in {elapsed_time} seconds\")\n",
        "    return df\n",
        "\n",
        "\n",
        "def plain_df(df):\n",
        "    df_expanded = pd.concat([df.drop(['totals', 'trafficSource', 'geoNetwork', 'device', 'customDimensions', 'visitorId', 'hits'], axis=1),\n",
        "                         df['totals'].apply(pd.Series).add_prefix('total_'),\n",
        "                         df['device'].apply(pd.Series).add_prefix('device_'),\n",
        "                        #  df['hits'].apply(pd.Series).add_prefix('hits_'),\n",
        "                         df['geoNetwork'].apply(pd.Series).add_prefix('geoNetwork_')], axis=1)\n",
        "    return df_expanded\n",
        "\n",
        "\n",
        "def combine_dataframes(dfs):\n",
        "    return pd.concat(dfs, ignore_index=True)\n",
        "\n",
        "\n",
        "def group_and_aggregate(df, col_name):\n",
        "    aggregated = df.groupby(col_name).agg({'device_browser': ['max', 'min'],\n",
        "                                            'total_pageviews': ['median'],\n",
        "                                            'total_visits': ['count'],\n",
        "                                            'device_deviceCategory': ['max', 'min'],\n",
        "                                            'geoNetwork_country': 'first'\n",
        "                                        }).reset_index()\n",
        "    aggregated.columns = [col + '_' + func if col != col_name else col for col, func in aggregated.columns]\n",
        "\n",
        "    return aggregated\n",
        "\n"
      ],
      "metadata": {
        "id": "jAyeKmgIklve"
      },
      "execution_count": 9,
      "outputs": []
    },
    {
      "cell_type": "code",
      "source": [
        "total_start_time = time.time()\n",
        "\n",
        "with ThreadPoolExecutor(max_workers=8) as executor:\n",
        "    dfs = list(executor.map(fetch_data, queries))\n",
        "\n",
        "combined_df = combine_dataframes(dfs)\n",
        "\n",
        "df_no_dict = plain_df(combined_df)\n",
        "total_end_time = time.time()\n",
        "total_elapsed_time = total_end_time - total_start_time\n",
        "print(f\"Total time: {total_elapsed_time} seconds\")\n"
      ],
      "metadata": {
        "id": "8QnDHLV7lWI4"
      },
      "execution_count": null,
      "outputs": []
    },
    {
      "cell_type": "code",
      "source": [
        "total_start_time = time.time()\n",
        "column_to_group = ['geoNetwork_subContinent', 'date', 'visitStartTime', 'geoNetwork_country']\n",
        "grouped_df1 = group_and_aggregate(df_no_dict, column_to_group[0])\n",
        "grouped_df2 = group_and_aggregate(df_no_dict, column_to_group[1])\n",
        "grouped_df3 = group_and_aggregate(df_no_dict, column_to_group[2])\n",
        "grouped_df4 = group_and_aggregate(df_no_dict, column_to_group[3])\n",
        "\n",
        "\n",
        "total_end_time = time.time()\n",
        "total_elapsed_time = total_end_time - total_start_time\n",
        "print(f\"Total time: {total_elapsed_time} seconds\")"
      ],
      "metadata": {
        "colab": {
          "base_uri": "https://localhost:8080/"
        },
        "id": "YWrPiW1V6y17",
        "outputId": "b734077d-242a-4cc3-9786-aa5869a49104"
      },
      "execution_count": 26,
      "outputs": [
        {
          "output_type": "stream",
          "name": "stdout",
          "text": [
            "Total time: 52.36764669418335 seconds\n"
          ]
        }
      ]
    },
    {
      "cell_type": "code",
      "source": [
        "combined_df.head()"
      ],
      "metadata": {
        "id": "rkTivaLB57mV"
      },
      "execution_count": null,
      "outputs": []
    },
    {
      "cell_type": "code",
      "source": [
        "df_no_dict.head(10)"
      ],
      "metadata": {
        "id": "fua_M1Cb57kz"
      },
      "execution_count": null,
      "outputs": []
    },
    {
      "cell_type": "code",
      "source": [
        "grouped_df1"
      ],
      "metadata": {
        "id": "bH7Lcn1In037"
      },
      "execution_count": null,
      "outputs": []
    },
    {
      "cell_type": "code",
      "source": [
        "grouped_df2"
      ],
      "metadata": {
        "id": "-KJxo0O2meG3"
      },
      "execution_count": null,
      "outputs": []
    },
    {
      "cell_type": "code",
      "source": [
        "grouped_df3"
      ],
      "metadata": {
        "id": "OlWMN0fgduzo"
      },
      "execution_count": null,
      "outputs": []
    },
    {
      "cell_type": "code",
      "source": [
        "combined_df.shape"
      ],
      "metadata": {
        "colab": {
          "base_uri": "https://localhost:8080/"
        },
        "id": "SClMBrBbtpcE",
        "outputId": "9d03a72e-1d35-49e6-ac46-172e6838c2fe"
      },
      "execution_count": 16,
      "outputs": [
        {
          "output_type": "execute_result",
          "data": {
            "text/plain": [
              "(132271, 16)"
            ]
          },
          "metadata": {},
          "execution_count": 16
        }
      ]
    },
    {
      "cell_type": "code",
      "source": [
        "from google.colab import drive\n",
        "\n",
        "drive.mount('/content/drive')"
      ],
      "metadata": {
        "id": "JLm2yZDk81dd"
      },
      "execution_count": null,
      "outputs": []
    },
    {
      "cell_type": "markdown",
      "source": [
        "/content/drive/MyDrive/tests_colab/DA/"
      ],
      "metadata": {
        "id": "cqLaYG5E4y16"
      }
    },
    {
      "cell_type": "code",
      "source": [
        "def write_to_excel(df, sheet_name, writer):\n",
        "    start_time = time.time()\n",
        "    df.to_excel(writer, sheet_name=sheet_name, index=False)\n",
        "    end_time = time.time()\n",
        "    elapsed_time = end_time - start_time\n",
        "    print(f\"\\nSheet '{sheet_name}' finished in {elapsed_time} seconds\")\n",
        "\n",
        "total_start_time = time.time()\n",
        "\n",
        "with pd.ExcelWriter('/content/drive/MyDrive/tests_colab/DA/data.xlsx') as writer:\n",
        "    with ThreadPoolExecutor(max_workers=8) as executor:\n",
        "        # executor.submit(write_to_excel, combined_df, 'Combined Data', writer)\n",
        "        executor.submit(write_to_excel, grouped_df1, 'Grouped Data 1', writer)\n",
        "        executor.submit(write_to_excel, grouped_df2, 'Grouped Data 2', writer)\n",
        "        executor.submit(write_to_excel, grouped_df3, 'Grouped Data 3', writer)\n",
        "        executor.submit(write_to_excel, grouped_df4, 'Grouped Data 4', writer)\n",
        "\n",
        "total_end_time = time.time()\n",
        "total_elapsed_time = total_end_time - total_start_time\n",
        "print(f\"Total time: {total_elapsed_time} seconds\")\n"
      ],
      "metadata": {
        "colab": {
          "base_uri": "https://localhost:8080/"
        },
        "id": "cD5K2R_Yb_5Q",
        "outputId": "61e415e1-3ad3-40f6-b84c-eb7edb1d581f"
      },
      "execution_count": 27,
      "outputs": [
        {
          "output_type": "stream",
          "name": "stdout",
          "text": [
            "\n",
            "Sheet 'Grouped Data 1' finished in 0.003812551498413086 seconds\n",
            "\n",
            "Sheet 'Grouped Data 2' finished in 0.014716386795043945 seconds\n",
            "\n",
            "Sheet 'Grouped Data 4' finished in 0.029042959213256836 seconds\n",
            "\n",
            "Sheet 'Grouped Data 3' finished in 12.534766435623169 seconds\n",
            "Total time: 27.14944052696228 seconds\n"
          ]
        }
      ]
    }
  ]
}