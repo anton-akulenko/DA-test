{
  "nbformat": 4,
  "nbformat_minor": 0,
  "metadata": {
    "colab": {
      "provenance": [],
      "authorship_tag": "ABX9TyNmRHUcRCLFseKrLR1QwfS8",
      "include_colab_link": true
    },
    "kernelspec": {
      "name": "python3",
      "display_name": "Python 3"
    },
    "language_info": {
      "name": "python"
    }
  },
  "cells": [
    {
      "cell_type": "markdown",
      "metadata": {
        "id": "view-in-github",
        "colab_type": "text"
      },
      "source": [
        "<a href=\"https://colab.research.google.com/github/anton-akulenko/DA-test/blob/main/images_level1.ipynb\" target=\"_parent\"><img src=\"https://colab.research.google.com/assets/colab-badge.svg\" alt=\"Open In Colab\"/></a>"
      ]
    },
    {
      "cell_type": "code",
      "source": [
        "pip install validators"
      ],
      "metadata": {
        "id": "x7ic4yj9uJOH"
      },
      "execution_count": null,
      "outputs": []
    },
    {
      "cell_type": "code",
      "source": [
        "import re\n",
        "import aiohttp\n",
        "import asyncio\n",
        "import pandas as pd\n",
        "from PIL import Image\n",
        "from io import BytesIO\n",
        "from tqdm import tqdm\n",
        "import validators"
      ],
      "metadata": {
        "id": "2lWINsEtuL4T"
      },
      "execution_count": 2,
      "outputs": []
    },
    {
      "cell_type": "code",
      "execution_count": 19,
      "metadata": {
        "colab": {
          "base_uri": "https://localhost:8080/"
        },
        "id": "O9hY12b_8mCu",
        "outputId": "c53fa62f-cd04-4149-a14b-b59ca9642936"
      },
      "outputs": [
        {
          "output_type": "stream",
          "name": "stdout",
          "text": [
            "Drive already mounted at /content/drive; to attempt to forcibly remount, call drive.mount(\"/content/drive\", force_remount=True).\n"
          ]
        }
      ],
      "source": [
        "from google.colab import drive\n",
        "\n",
        "drive.mount('/content/drive')\n",
        "all_data_folder = \"/content/drive/MyDrive/tests_colab/DA/\" #/content/drive/MyDrive/tests_colab/DA/"
      ]
    },
    {
      "cell_type": "code",
      "source": [
        "def convert_google_sheet_url(url):\n",
        "    pattern = r'https://docs\\.google\\.com/spreadsheets/d/([a-zA-Z0-9-_]+)(/edit#gid=(\\d+)|/edit.*)?'\n",
        "    replacement = lambda m: f'https://docs.google.com/spreadsheets/d/{m.group(1)}/export?' + (f'gid={m.group(3)}&' if m.group(3) else '') + 'format=csv'\n",
        "    new_url = re.sub(pattern, replacement, url)\n",
        "    return new_url"
      ],
      "metadata": {
        "id": "gaPAKQoPBiB5"
      },
      "execution_count": 4,
      "outputs": []
    },
    {
      "cell_type": "code",
      "source": [
        "url = 'https://docs.google.com/spreadsheets/d/1QX2IhFyYmGDFMvovw2WFz3wAT4piAZ_8hi5Lzp7LjV0/edit#gid=1902149593'\n",
        "new_url = convert_google_sheet_url(url)"
      ],
      "metadata": {
        "id": "fhHbQ7nPBu5g"
      },
      "execution_count": 6,
      "outputs": []
    },
    {
      "cell_type": "code",
      "source": [
        "df = pd.read_csv(new_url)"
      ],
      "metadata": {
        "id": "Koxnud95_cdt"
      },
      "execution_count": 7,
      "outputs": []
    },
    {
      "cell_type": "code",
      "source": [
        "# df1 = df.loc[:2000]\n",
        "df1 = df"
      ],
      "metadata": {
        "id": "UV-MxCaTC6mW"
      },
      "execution_count": 8,
      "outputs": []
    },
    {
      "cell_type": "code",
      "source": [
        "df1.shape"
      ],
      "metadata": {
        "colab": {
          "base_uri": "https://localhost:8080/"
        },
        "id": "ECM4tkCJgZEx",
        "outputId": "cc2be6c2-1548-4bdb-e8f3-87427d6e8d7b"
      },
      "execution_count": 15,
      "outputs": [
        {
          "output_type": "execute_result",
          "data": {
            "text/plain": [
              "(46888, 2)"
            ]
          },
          "metadata": {},
          "execution_count": 15
        }
      ]
    },
    {
      "cell_type": "code",
      "source": [
        "DELAY = 0.0\n",
        "BATCH_SIZE = 200\n",
        "\n",
        "async def fetch(session, url):\n",
        "    if not validators.url(url):\n",
        "        return \"url not valid\"\n",
        "    async with session.get(url) as response:\n",
        "        return await response.read()\n",
        "\n",
        "async def get_image_size(session, urls, delay=0):\n",
        "    tasks = [fetch(session, url) for url in urls]\n",
        "    results = await asyncio.gather(*tasks)\n",
        "    sizes = []\n",
        "    error_links = []\n",
        "    for url, data in zip(urls, results):\n",
        "        try:\n",
        "            image = Image.open(BytesIO(data))\n",
        "            width, height = image.size\n",
        "            sizes.append(f\"{width}x{height}\")\n",
        "        except Exception as e:\n",
        "            error_links.append([url, e])\n",
        "            sizes.append(e)\n",
        "        await asyncio.sleep(delay)\n",
        "    return sizes, error_links\n",
        "\n",
        "async def main():\n",
        "    image_urls = df1['image_url'].tolist()\n",
        "    batch_size = BATCH_SIZE\n",
        "    image_urls_batches = [image_urls[i:i + batch_size] for i in range(0, len(image_urls), batch_size)]\n",
        "    async with aiohttp.ClientSession() as session:\n",
        "        all_sizes = []\n",
        "        total_errors = []\n",
        "        for batch in tqdm(image_urls_batches, desc=\"Processing batches\", ncols=100):\n",
        "            sizes, batch_errors = await get_image_size(session, batch, delay=DELAY)\n",
        "            all_sizes.extend(sizes)\n",
        "            total_errors.extend(batch_errors)\n",
        "        data = {'URL': image_urls, 'SIZE (pixels)': all_sizes}\n",
        "        df_result = pd.DataFrame(data)\n",
        "        data_err = {'original URL': [str(error[0]) for error in total_errors], \"Error descr\": [error[1] for error in total_errors]}\n",
        "        df_err = pd.DataFrame(data_err)\n",
        "        df_result.to_excel(all_data_folder + \"all_images_sizes.xlsx\", index=False)\n",
        "\n",
        "        print(\"DataFrame saved to all_images_sizes.xlsx\")\n",
        "\n",
        "        df_err.to_excel(all_data_folder + \"list_of_errors.xlsx\", index=False)\n",
        "\n",
        "        print(\"Errors saved to list_of_errors.xlsx\")\n",
        "        print(f\"Total error urls: {len(total_errors)}\")\n",
        "\n",
        "await main()"
      ],
      "metadata": {
        "colab": {
          "base_uri": "https://localhost:8080/"
        },
        "id": "y3v8pDhdrRiM",
        "outputId": "14eea791-98ac-4326-9673-de5e47370dd6"
      },
      "execution_count": 21,
      "outputs": [
        {
          "output_type": "stream",
          "name": "stderr",
          "text": [
            "Processing batches: 100%|█████████████████████████████████████████| 235/235 [02:16<00:00,  1.72it/s]\n"
          ]
        },
        {
          "output_type": "stream",
          "name": "stdout",
          "text": [
            "DataFrame saved to all_images_sizes.xlsx\n",
            "Errors saved to list_of_errors.xlsx\n",
            "Total error urls: 998\n"
          ]
        }
      ]
    },
    {
      "cell_type": "markdown",
      "source": [
        "**Clean DF**"
      ],
      "metadata": {
        "id": "PIBVm8RC41r7"
      }
    },
    {
      "cell_type": "code",
      "source": [
        "error_df = pd.read_excel(all_data_folder + \"list_of_errors.xlsx\")\n",
        "img_df = pd.read_excel(all_data_folder + \"all_images_sizes.xlsx\")\n",
        "error_urls = error_df['original URL'].tolist()\n",
        "cleaned_df = img_df[~img_df['URL'].isin(error_urls)]\n",
        "cleaned_df.to_excel(all_data_folder + \"CLEAN_images_sizes_no_errors.xlsx\", index=False)\n"
      ],
      "metadata": {
        "id": "wao1idqArfei"
      },
      "execution_count": 23,
      "outputs": []
    }
  ]
}