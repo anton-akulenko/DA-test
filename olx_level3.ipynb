{
 "cells": [
  {
   "cell_type": "code",
   "outputs": [],
   "source": [
    "import json\n",
    "import os\n",
    "import time\n",
    "\n",
    "import pandas as pd\n",
    "from pydrive.auth import GoogleAuth\n",
    "from pydrive.drive import GoogleDrive\n",
    "from selenium import webdriver\n",
    "from selenium.common.exceptions import NoSuchElementException\n",
    "from selenium.webdriver.common.by import By\n",
    "from selenium.webdriver.support import expected_conditions as ec\n",
    "from selenium.webdriver.support.ui import WebDriverWait\n"
   ],
   "metadata": {
    "collapsed": false,
    "ExecuteTime": {
     "end_time": "2024-04-07T09:35:30.359442Z",
     "start_time": "2024-04-07T09:35:29.066489Z"
    }
   },
   "id": "4d25ff28572ed237",
   "execution_count": 1
  },
  {
   "cell_type": "code",
   "outputs": [],
   "source": [
    "options = webdriver.ChromeOptions()\n",
    "options.add_extension('adblock.crx')\n",
    "options.add_argument('--start-maximized')\n",
    "options.add_argument('--blink-settings=imagesEnabled=false')  #block images\n",
    "options.add_argument('--ignore-certificate-errors')\n",
    "options.add_argument('--ignore-ssl-errors')\n",
    "options.add_argument('--ignore-gpu-blacklist')\n",
    "options.add_argument('--use-gl')\n",
    "options.add_argument(\"--disable-cookies\")\n",
    "options.add_argument('--disable-web-security')\n",
    "options.add_experimental_option(\"excludeSwitches\", ['enable-logging'])"
   ],
   "metadata": {
    "collapsed": false,
    "ExecuteTime": {
     "end_time": "2024-04-07T12:38:47.671916Z",
     "start_time": "2024-04-07T12:38:47.665732Z"
    }
   },
   "id": "89953437bb88ed8e",
   "execution_count": 115
  },
  {
   "cell_type": "code",
   "outputs": [],
   "source": [
    "regions_codes = {\n",
    "    'if': 'Івано-Франківська область',\n",
    "    'vin': 'Вінницька область',\n",
    "    'vol': 'Волинська область',\n",
    "    'dnp': 'Дніпропетровська область',\n",
    "    'don': 'Донецька область',\n",
    "    'zht': 'Житомирська область',\n",
    "    'zak': 'Закарпатська область',\n",
    "    'zap': 'Запорізька область',\n",
    "    'kir': 'Кіровоградська область',\n",
    "    'ko': 'Київська область',\n",
    "    # 'cri': 'Крим (АРК)',\n",
    "    'lug': 'Луганська область',\n",
    "    'lv': 'Львівська область',\n",
    "    'nik': 'Миколаївська область',\n",
    "    'od': 'Одеська область',\n",
    "    'pol': 'Полтавська область',\n",
    "    'rov': 'Рівненська область',\n",
    "    'sum': 'Сумська область',\n",
    "    'ter': 'Тернопільська область',\n",
    "    'kha': 'Харківська область',\n",
    "    'khe': 'Херсонська область',\n",
    "    'khm': 'Хмельницька область',\n",
    "    'chk': 'Черкаська область',\n",
    "    'chv': 'Чернівецька область',\n",
    "    'chn': 'Чернігівська область'\n",
    "}"
   ],
   "metadata": {
    "collapsed": false,
    "ExecuteTime": {
     "end_time": "2024-04-07T10:33:12.345388Z",
     "start_time": "2024-04-07T10:33:12.339195Z"
    }
   },
   "id": "ebcbff8c0d777953",
   "execution_count": 51
  },
  {
   "cell_type": "code",
   "outputs": [],
   "source": [
    "def grab_data(driver, links_to_check):\n",
    "    data = []\n",
    "    count = 0\n",
    "    start_time = time.time()\n",
    "    for link in links_to_check:\n",
    "        count += 1\n",
    "        driver.get(link)\n",
    "        try:\n",
    "            price = driver.find_element(By.CLASS_NAME, 'css-12vqlj3').text\n",
    "        except NoSuchElementException:\n",
    "            price = None\n",
    "        try:\n",
    "            description = driver.find_element(By.CLASS_NAME, 'css-1juynto').text\n",
    "        except NoSuchElementException:\n",
    "            description = None\n",
    "        try:\n",
    "            place = driver.find_element(By.CLASS_NAME, 'css-149mw5z').get_attribute(\"alt\")\n",
    "        except NoSuchElementException:\n",
    "            place = None\n",
    "\n",
    "        try:\n",
    "            floors_find = driver.find_elements(By.CLASS_NAME, \"css-1r0si1e\")\n",
    "            floor_current = None\n",
    "            total_flooring = None\n",
    "            total_area = None\n",
    "            for elem in floors_find:\n",
    "                text_elem = elem.text\n",
    "                if \"Поверх:\" in text_elem:\n",
    "                    floor_current = text_elem\n",
    "                elif \"Поверховість:\" in text_elem:\n",
    "                    total_flooring = text_elem\n",
    "                elif \"Загальна площа: \" in text_elem:\n",
    "                    total_area = text_elem\n",
    "        except NoSuchElementException:\n",
    "            floor_current = None\n",
    "            total_flooring = None\n",
    "            total_area = None\n",
    "\n",
    "        if count % 50 == 0:\n",
    "            end_time = time.time()\n",
    "            execution_time = end_time - start_time\n",
    "            print(f\"Batch done in: {execution_time:.2f}\")\n",
    "            start_time = time.time()\n",
    "        data.append({\n",
    "            \"URL_ads\": link,\n",
    "            \"place\": place,\n",
    "            \"price\": price,\n",
    "            \"total_area\": total_area,\n",
    "            \"floor\": floor_current,\n",
    "            \"total_floors\": total_flooring,\n",
    "            \"description\": description,\n",
    "        })\n",
    "        print(f\"More 50 processed from {len(links_to_check)} left {len(links_to_check) - count}\")\n",
    "    return data"
   ],
   "metadata": {
    "collapsed": false,
    "ExecuteTime": {
     "end_time": "2024-04-07T12:38:44.548810Z",
     "start_time": "2024-04-07T12:38:44.539538Z"
    }
   },
   "id": "49c2466adde0719a",
   "execution_count": 114
  },
  {
   "cell_type": "code",
   "outputs": [],
   "source": [
    "BASE_URL = \"https://www.olx.ua/uk/nedvizhimost/kvartiry/\""
   ],
   "metadata": {
    "collapsed": false
   },
   "id": "9b7a539f9d129a23",
   "execution_count": 59
  },
  {
   "cell_type": "code",
   "outputs": [],
   "source": [
    "for code in regions_codes.keys():\n",
    "    print(BASE_URL + code + '/?currency=UAH&search%5Border%5D=created_at:desc')"
   ],
   "metadata": {
    "collapsed": false
   },
   "id": "db157a8203be91ed",
   "execution_count": null
  },
  {
   "cell_type": "code",
   "outputs": [],
   "source": [
    "def init_regions(BASE_URL, regions_codes):\n",
    "    all_links = []\n",
    "    for code in regions_codes.keys():\n",
    "        driver = webdriver.Chrome(options=options)\n",
    "        driver.get(BASE_URL + code + '/?currency=UAH&search%5Border%5D=created_at:desc')\n",
    "        # Wait for page to load\n",
    "        while driver.execute_script(\"return document.readyState\") != \"complete\":\n",
    "            pass\n",
    "        cookie_ok_button = WebDriverWait(driver, 5).until(\n",
    "            ec.element_to_be_clickable((By.XPATH, '//*[@id=\"hydrate-root\"]/div[4]/div[3]/button')))\n",
    "        cookie_ok_button.click()\n",
    "        print(driver.title)\n",
    "        start_page = driver.find_elements(By.CLASS_NAME, 'css-z3gu2d')\n",
    "        all_links += [link.get_attribute('href') for link in start_page]\n",
    "        paginator_pages = driver.find_elements(By.CLASS_NAME, 'css-1mi714g')[-1].text\n",
    "        for i in range(1, int(paginator_pages)):\n",
    "            print(f\"Scrapping page # {i}\")\n",
    "            next_page = f'{BASE_URL}{code}/?currency=UAH&page={i}&search%5Border%5D=created_at%3Adesc'\n",
    "            driver.get(next_page)\n",
    "            while driver.execute_script(\"return document.readyState\") != \"complete\":\n",
    "                pass\n",
    "            on_page = driver.find_elements(By.CLASS_NAME, 'css-z3gu2d')\n",
    "            links_on_page = [link.get_attribute('href') for link in on_page]\n",
    "            all_links.extend(links_on_page)\n",
    "        driver.quit()\n",
    "    return all_links"
   ],
   "metadata": {
    "collapsed": false,
    "ExecuteTime": {
     "end_time": "2024-04-07T10:33:34.247921Z",
     "start_time": "2024-04-07T10:33:34.238695Z"
    }
   },
   "id": "fb7800d407639869",
   "execution_count": 53
  },
  {
   "cell_type": "code",
   "outputs": [],
   "source": [
    "test = init_regions(BASE_URL, regions_codes)"
   ],
   "metadata": {
    "collapsed": false
   },
   "id": "a462dfe80d6b08b5",
   "execution_count": null
  },
  {
   "cell_type": "code",
   "outputs": [],
   "source": [
    "len(test)\n",
    "all_links = set(test)\n",
    "print(len(all_links))\n",
    "with open('All_links_regions.txt', 'w') as file:\n",
    "    for link in all_links:\n",
    "        file.write(f\"{link}\\n\")\n",
    "print(\"Дані збережено у файл 'All_links_regions.json'\")"
   ],
   "metadata": {
    "collapsed": false
   },
   "id": "58aa3a67091c99ad",
   "execution_count": null
  },
  {
   "cell_type": "code",
   "outputs": [],
   "source": [
    "start_time = time.time(\n",
    "    \n",
    "driver = webdriver.Chrome(options=options)\n",
    "driver.get(BASE_URL)\n",
    "while driver.execute_script(\"return document.readyState\") != \"complete\":\n",
    "    pass\n",
    "cookie_ok_button = WebDriverWait(driver, 5).until(ec.element_to_be_clickable((By.XPATH, '//*[@id=\"hydrate-root\"]/div[4]/div[3]/button')))\n",
    "cookie_ok_button.click()\n",
    "all_links_to_grab = test\n",
    "all_links = set(all_links_to_grab)\n",
    "print(len(all_links))\n",
    "data = grab_data(driver, all_links)\n",
    "end_time = time.time()\n",
    "execution_time = end_time - start_time\n",
    "print(f\"Total time: {execution_time / 60:.2f} minutes \")\n",
    "\n",
    "driver.quit()"
   ],
   "metadata": {
    "collapsed": false
   },
   "id": "9a6548cb79c4314d",
   "execution_count": null
  },
  {
   "cell_type": "markdown",
   "source": [],
   "metadata": {
    "collapsed": false
   },
   "id": "a900c109aa0e799c"
  },
  {
   "cell_type": "code",
   "outputs": [
    {
     "name": "stdout",
     "output_type": "stream",
     "text": [
      "Дані збережено у файл 'data.json'\n"
     ]
    }
   ],
   "source": [
    "with open('data.json', 'w', encoding='utf-8') as file:\n",
    "    json.dump(data, file, ensure_ascii=False, indent=4)\n",
    "\n",
    "print(\"Saved local links to 'data.json'\")"
   ],
   "metadata": {
    "collapsed": false,
    "ExecuteTime": {
     "end_time": "2024-04-07T13:59:10.438345Z",
     "start_time": "2024-04-07T13:59:10.393934Z"
    }
   },
   "id": "2abc9a25ffca5b11",
   "execution_count": 117
  },
  {
   "cell_type": "code",
   "outputs": [],
   "source": [
    "driver.quit()\n"
   ],
   "metadata": {
    "collapsed": false,
    "ExecuteTime": {
     "end_time": "2024-04-07T13:59:30.967771Z",
     "start_time": "2024-04-07T13:59:10.539932Z"
    }
   },
   "id": "27c0c24fa55f9b43",
   "execution_count": 118
  },
  {
   "cell_type": "code",
   "outputs": [],
   "source": [
    "!pip install gspread\n",
    "!pip install oauth2client\n",
    "!pip install openpyxl pydrive\n"
   ],
   "metadata": {
    "collapsed": false
   },
   "id": "95ab0c14b19f4f65",
   "execution_count": null
  },
  {
   "cell_type": "code",
   "outputs": [],
   "source": [
    "gauth = GoogleAuth()\n",
    "gauth.LocalWebserverAuth()  \n",
    "drive = GoogleDrive(gauth)\n",
    "df = pd.DataFrame(data)\n",
    "\n",
    "file_path = 'real_estate_data.xlsx'\n",
    "\n",
    "if not os.path.exists(file_path):\n",
    "    df.to_excel(file_path, index=False)\n",
    "    print(f\"{file_path} created!\")\n",
    "else:\n",
    "    print(f\"{file_path}  exist.\")\n",
    "\n",
    "file_drive = drive.CreateFile(\n",
    "    {'title': 'Real Estate Data', 'parents': [{'id': '1oeNCttwXUU-8XOclNSyTBAkrBeNdtU4K'}]})\n",
    "file_drive.SetContentFile(file_path)\n",
    "file_drive.Upload()\n",
    "\n",
    "os.remove(file_path)\n",
    "print(f\"File {file_drive['title']} uploaded to Google Drive!\")\n"
   ],
   "metadata": {
    "collapsed": false
   },
   "id": "e5d1af59de9b967e",
   "execution_count": null
  }
 ],
 "metadata": {
  "kernelspec": {
   "display_name": "Python 3",
   "language": "python",
   "name": "python3"
  },
  "language_info": {
   "codemirror_mode": {
    "name": "ipython",
    "version": 2
   },
   "file_extension": ".py",
   "mimetype": "text/x-python",
   "name": "python",
   "nbconvert_exporter": "python",
   "pygments_lexer": "ipython2",
   "version": "2.7.6"
  }
 },
 "nbformat": 4,
 "nbformat_minor": 5
}
